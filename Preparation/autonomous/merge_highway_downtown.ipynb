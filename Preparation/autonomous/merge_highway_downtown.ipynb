{
 "cells": [
  {
   "cell_type": "code",
   "execution_count": null,
   "metadata": {},
   "outputs": [],
   "source": [
    "import os\n",
    "import cv2"
   ]
  },
  {
   "cell_type": "code",
   "execution_count": null,
   "metadata": {},
   "outputs": [],
   "source": [
    "def merge_videos(\n",
    "    video_paths: list,\n",
    "    starts: list,\n",
    "    output_path: str,\n",
    "    fps: int,\n",
    "    sequence_length: int,\n",
    "    periods: int\n",
    ") -> None:\n",
    "    \n",
    "    def skip_frames(video_reader, n):\n",
    "        for _ in range(n):\n",
    "            r, frame = video_reader.read()\n",
    "            if not r:\n",
    "                break\n",
    "                \n",
    "    # Open videos\n",
    "    video_readers = []\n",
    "    for video_path in video_paths:\n",
    "        video_reader = cv2.VideoCapture(video_path)\n",
    "        video_readers.append(video_reader)\n",
    "    \n",
    "    output_video = cv2.VideoWriter(output_path, cv2.VideoWriter_fourcc('m', 'p', '4', 'v'), fps, (1920, 1080))\n",
    "    \n",
    "    def build_frames(video_reader):\n",
    "        for _ in range(sequence_length):\n",
    "            r, frame = video_reader.read()\n",
    "            output_video.write(frame)\n",
    "    \n",
    "    for _ in range(periods):\n",
    "        for video_reader in video_readers:\n",
    "            build_frames(video_reader)\n",
    "            \n",
    "    output_video.release()\n",
    "    "
   ]
  },
  {
   "cell_type": "code",
   "execution_count": null,
   "metadata": {},
   "outputs": [],
   "source": [
    "downtown_video_path = ''\n",
    "highway_video_path = ''\n",
    "\n",
    "output_path = ''\n",
    "\n",
    "fps = 30\n",
    "\n",
    "# Length (in frames) of a sequence\n",
    "sequence_length = 20*60*fps\n",
    "\n",
    "# Number of sequences to write. A period is a  composition of [first_sequence, second_sequence] sequences. \n",
    "number_of_periods = 4\n",
    "\n",
    "#Number of frames that must be ignored when opening the video\n",
    "first_remove = 0.5*60*fps\n",
    "second_remove = 0\n",
    "\n",
    "merge_videos(downtown_video_path, highway_video_path, output_path, fps, sequence_length, number_of_periods, first_remove, second_remove)"
   ]
  }
 ],
 "metadata": {
  "kernelspec": {
   "display_name": "Python [conda env:root]",
   "language": "python",
   "name": "conda-root-py"
  },
  "language_info": {
   "codemirror_mode": {
    "name": "ipython",
    "version": 3
   },
   "file_extension": ".py",
   "mimetype": "text/x-python",
   "name": "python",
   "nbconvert_exporter": "python",
   "pygments_lexer": "ipython3",
   "version": "3.8.3"
  }
 },
 "nbformat": 4,
 "nbformat_minor": 4
}
