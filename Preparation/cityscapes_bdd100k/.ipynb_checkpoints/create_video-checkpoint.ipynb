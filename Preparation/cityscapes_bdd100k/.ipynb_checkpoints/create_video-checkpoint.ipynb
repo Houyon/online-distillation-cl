{
 "cells": [
  {
   "cell_type": "code",
   "execution_count": 1,
   "metadata": {},
   "outputs": [],
   "source": [
    "import os\n",
    "import cv2\n",
    "import random\n",
    "import numpy as np"
   ]
  },
  {
   "cell_type": "code",
   "execution_count": 2,
   "metadata": {},
   "outputs": [],
   "source": [
    "BDD100K_path = '/scratch/users/jhouyon/BDD100K'\n",
    "cityscapes_path = '/scratch/users/jhouyon/CityScapes'"
   ]
  },
  {
   "cell_type": "code",
   "execution_count": 3,
   "metadata": {},
   "outputs": [
    {
     "data": {
      "text/plain": [
       "(8000, 8000)"
      ]
     },
     "execution_count": 3,
     "metadata": {},
     "output_type": "execute_result"
    }
   ],
   "source": [
    "BDD100K_images = os.listdir(os.path.join(BDD100K_path, 'images'))\n",
    "BDD100K_targets = os.listdir(os.path.join(BDD100K_path, 'targets'))\n",
    "\n",
    "BDD100K_targets.remove('.npy')\n",
    "for path in BDD100K_images:\n",
    "    if '_' in path:\n",
    "        BDD100K_images.remove(path)\n",
    "        \n",
    "len(BDD100K_images), len(BDD100K_targets)"
   ]
  },
  {
   "cell_type": "code",
   "execution_count": 4,
   "metadata": {},
   "outputs": [
    {
     "data": {
      "text/plain": [
       "(3475, 3475)"
      ]
     },
     "execution_count": 4,
     "metadata": {},
     "output_type": "execute_result"
    }
   ],
   "source": [
    "cityscapes_images = sorted(os.listdir(os.path.join(cityscapes_path, 'images')))\n",
    "cityscapes_targets = sorted(os.listdir(os.path.join(cityscapes_path, 'targets')))\n",
    "\n",
    "cityscapes_images.remove('._aachen_000000_000019_leftImg8bit.png')\n",
    "cityscapes_images.remove('._aachen_000003_000019_leftImg8bit.png')\n",
    "cityscapes_targets.remove('.npy')\n",
    "\n",
    "len(cityscapes_images), len(cityscapes_targets)"
   ]
  },
  {
   "cell_type": "code",
   "execution_count": 5,
   "metadata": {},
   "outputs": [],
   "source": [
    "BDD100K_size = 8000\n",
    "cityscapes_size = 3475\n",
    "subsample = 1600"
   ]
  },
  {
   "cell_type": "code",
   "execution_count": 6,
   "metadata": {},
   "outputs": [],
   "source": [
    "random.seed(42)\n",
    "\n",
    "BDD100K_ids = random.sample(range(BDD100K_size), subsample)\n",
    "cityscapes_ids = random.sample(range(cityscapes_size), subsample)\n",
    "\n",
    "BDD100K_frames = (np.array(BDD100K_images)[BDD100K_ids], np.array(BDD100K_targets)[BDD100K_ids])\n",
    "cityscapes_frames = (np.array(cityscapes_images)[cityscapes_ids], np.array(cityscapes_targets)[cityscapes_ids])"
   ]
  },
  {
   "cell_type": "code",
   "execution_count": 7,
   "metadata": {},
   "outputs": [],
   "source": [
    "video_path = '/scratch/users/jhouyon/bdd100k_cityscapes/videos/bdd100k_cityscapes.mp4'\n",
    "resolution = (1280, 720)\n",
    "sequence_length = 20 * 20 # 20 minutes considering that the video goes at a rate of 1 image every 3 seconds"
   ]
  },
  {
   "cell_type": "code",
   "execution_count": 8,
   "metadata": {},
   "outputs": [],
   "source": [
    "sequence_number = 0\n",
    "video = cv2.VideoWriter(video_path, cv2.VideoWriter_fourcc('m', 'p', '4', 'v'), 1, resolution)\n",
    "\n",
    "i = 0\n",
    "j = 0\n",
    "while(i < subsample or j < subsample):\n",
    "    end = i + sequence_length\n",
    "    while(i < end):\n",
    "        frame = cv2.imread(os.path.join(BDD100K_path, 'images', BDD100K_frames[0][i]))\n",
    "        video.write(frame)\n",
    "        i += 1\n",
    "    \n",
    "    end = j + sequence_length\n",
    "    while(j < end):\n",
    "        frame = frame = cv2.imread(os.path.join(cityscapes_path, 'images', cityscapes_frames[0][j]))\n",
    "        video.write(frame)\n",
    "        j += 1\n",
    "    \n",
    "video.release()"
   ]
  },
  {
   "cell_type": "code",
   "execution_count": 59,
   "metadata": {},
   "outputs": [],
   "source": [
    "target_path = '/scratch/users/jhouyon/bdd100k_cityscapes/pseudo_groundtruth_seg/gd/bdd100k_cityscapes'"
   ]
  },
  {
   "cell_type": "code",
   "execution_count": 60,
   "metadata": {},
   "outputs": [],
   "source": [
    "digits = 6\n",
    "\n",
    "i = 0\n",
    "j = 0\n",
    "x = 0\n",
    "while(x < 2*subsample):\n",
    "    end = i + sequence_length\n",
    "    while(i < end):\n",
    "        source_filename = os.path.join(BDD100K_path, 'targets', BDD100K_frames[1][i])\n",
    "        target_filename = os.path.join(target_path, str(x).zfill(digits) + '.npz')\n",
    "        np.savez_compressed(target_filename, seg=np.load(source_filename).astype('uint8'))\n",
    "        i += 1\n",
    "        x += 1\n",
    "        \n",
    "    end = j + sequence_length\n",
    "    while(j < end):\n",
    "        source_filename = os.path.join(cityscapes_path, 'targets', cityscapes_frames[1][j])        \n",
    "        target_filename = os.path.join(target_path, str(x).zfill(digits) + '.npz')\n",
    "        np.savez_compressed(target_filename, seg=np.load(source_filename).astype('uint8'))\n",
    "        j += 1\n",
    "        x += 1"
   ]
  },
  {
   "cell_type": "code",
   "execution_count": null,
   "metadata": {},
   "outputs": [],
   "source": []
  }
 ],
 "metadata": {
  "kernelspec": {
   "display_name": "Python [conda env:root]",
   "language": "python",
   "name": "conda-root-py"
  },
  "language_info": {
   "codemirror_mode": {
    "name": "ipython",
    "version": 3
   },
   "file_extension": ".py",
   "mimetype": "text/x-python",
   "name": "python",
   "nbconvert_exporter": "python",
   "pygments_lexer": "ipython3",
   "version": "3.8.3"
  }
 },
 "nbformat": 4,
 "nbformat_minor": 4
}
